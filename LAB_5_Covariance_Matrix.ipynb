{
  "nbformat": 4,
  "nbformat_minor": 0,
  "metadata": {
    "colab": {
      "name": "LAB 5 Covariance Matrix.ipynb",
      "provenance": [],
      "collapsed_sections": [],
      "toc_visible": true,
      "include_colab_link": true
    },
    "kernelspec": {
      "display_name": "Python 3",
      "language": "python",
      "name": "python3"
    },
    "accelerator": "GPU"
  },
  "cells": [
    {
      "cell_type": "markdown",
      "metadata": {
        "id": "view-in-github",
        "colab_type": "text"
      },
      "source": [
        "<a href=\"https://colab.research.google.com/github/Vishu26/Statistical-Communication-Labs/blob/master/LAB_5_Covariance_Matrix.ipynb\" target=\"_parent\"><img src=\"https://colab.research.google.com/assets/colab-badge.svg\" alt=\"Open In Colab\"/></a>"
      ]
    },
    {
      "cell_type": "code",
      "metadata": {
        "colab_type": "code",
        "id": "6MOcNluBHUd4",
        "colab": {}
      },
      "source": [
        "%matplotlib inline\n",
        "import numpy as np\n",
        "import matplotlib.pyplot as plt\n",
        "from mpl_toolkits.mplot3d import Axes3D\n",
        "from matplotlib import cm\n",
        "import matplotlib.image as mpimg"
      ],
      "execution_count": 0,
      "outputs": []
    },
    {
      "cell_type": "markdown",
      "metadata": {
        "colab_type": "text",
        "id": "rHoCkPksS_eG"
      },
      "source": [
        "## Three different Gaussian random variables, i.e., $X1$, $X2$ and $X3$ with $0$ mean and $1$ variance. "
      ]
    },
    {
      "cell_type": "code",
      "metadata": {
        "colab_type": "code",
        "id": "k3aRQUlwITVQ",
        "colab": {
          "base_uri": "https://localhost:8080/",
          "height": 34
        },
        "outputId": "8be382ff-5375-42ce-93ec-3f218f0543f5"
      },
      "source": [
        "M = 2000\n",
        "X1 = np.random.normal(0, 1, M)\n",
        "X2 = np.random.normal(0, 1, M)#write code here\n",
        "X3 = np.random.normal(0, 1, M)#write code here\n",
        "X = np.c_[X1, X2, X3]\n",
        "X.shape"
      ],
      "execution_count": 4,
      "outputs": [
        {
          "output_type": "execute_result",
          "data": {
            "text/plain": [
              "(2000, 3)"
            ]
          },
          "metadata": {
            "tags": []
          },
          "execution_count": 4
        }
      ]
    },
    {
      "cell_type": "markdown",
      "metadata": {
        "colab_type": "text",
        "id": "grSpBhjFS_ei"
      },
      "source": [
        "## <font color='red'>1. Compute the covariance matrix of  $X1$, $X2$ and $X3$. Covariance matrix (CV) $$CV = \\begin{bmatrix} cov(X1,X1) & cov(X1,X2)& cov(X1,X3)\\\\cov(X2,X1) & cov(X2,X2)& cov(X2,X3)\\\\cov(X3,X1) & cov(X3,X2)& cov(X3,X3)\\end{bmatrix}.$$ Here, $$cov(X,Y)=E[XY]-E[X]E[Y]$$</font> \n"
      ]
    },
    {
      "cell_type": "code",
      "metadata": {
        "id": "AjP3K-UmDKf5",
        "colab_type": "code",
        "colab": {}
      },
      "source": [
        "def covmat(data_mat):\n",
        "\n",
        "    sam = data_mat.shape[0]\n",
        "    var = data_mat.shape[1]\n",
        "    CV = np.zeros((var, var))\n",
        "    for i in range(var):\n",
        "      for j in range(i, var):\n",
        "        mu1 = np.mean(data_mat[:, i])\n",
        "        mu2 = np.mean(data_mat[:, j])\n",
        "        if(i==j):\n",
        "          X = data_mat[:,i] - mu1\n",
        "          CV[i,j] = np.mean(X.reshape(1, sam).dot(X.reshape(sam, 1))) / sam\n",
        "        else:\n",
        "          X = data_mat[:,i] - mu1\n",
        "          Y = data_mat[:,j] - mu2\n",
        "          CV[i,j] = np.mean(X.reshape(1, sam).dot(Y.reshape(sam, 1))) / sam\n",
        "          CV[j, i] = CV[i,j]\n",
        "    return CV"
      ],
      "execution_count": 0,
      "outputs": []
    },
    {
      "cell_type": "code",
      "metadata": {
        "id": "vTI0tis2DKgA",
        "colab_type": "code",
        "outputId": "05f94f26-ed19-4b38-e032-81a94372dbb9",
        "colab": {
          "base_uri": "https://localhost:8080/",
          "height": 337
        }
      },
      "source": [
        "CV = covmat(X)\n",
        "print(CV)\n",
        "fig=plt.figure()\n",
        "plt.imshow(CV)\n",
        "plt.colorbar()"
      ],
      "execution_count": 18,
      "outputs": [
        {
          "output_type": "stream",
          "text": [
            "[[ 1.00806505 -0.02746221  0.04900039]\n",
            " [-0.02746221  0.97961669 -0.01881115]\n",
            " [ 0.04900039 -0.01881115  1.00722347]]\n"
          ],
          "name": "stdout"
        },
        {
          "output_type": "execute_result",
          "data": {
            "text/plain": [
              "<matplotlib.colorbar.Colorbar at 0x7fe0b19d5c50>"
            ]
          },
          "metadata": {
            "tags": []
          },
          "execution_count": 18
        },
        {
          "output_type": "display_data",
          "data": {
            "image/png": "[encoded data removed]",
            "text/plain": [
              "<Figure size 432x288 with 2 Axes>"
            ]
          },
          "metadata": {
            "tags": []
          }
        }
      ]
    },
    {
      "cell_type": "markdown",
      "metadata": {
        "id": "TgcyZLsoDKgJ",
        "colab_type": "text"
      },
      "source": [
        "## <font color='red'>2. Generate three random variables as $X1$, $X2$ and $X1+X2$. Compute the covariance matrix</font> "
      ]
    },
    {
      "cell_type": "code",
      "metadata": {
        "id": "JTXX_TsuDaLX",
        "colab_type": "code",
        "colab": {
          "base_uri": "https://localhost:8080/",
          "height": 337
        },
        "outputId": "bd8c2cbb-65ff-4606-8465-03409c17fed6"
      },
      "source": [
        "X1 =np.random.normal(0, 1, M)\n",
        "X2 =np.random.normal(0, 1, M)\n",
        "X3 = X1 + X2\n",
        "X = np.c_[X1, X2, X3]\n",
        "CV = covmat(X)\n",
        "print(CV)\n",
        "fig=plt.figure()\n",
        "plt.imshow(CV)\n",
        "plt.colorbar()"
      ],
      "execution_count": 19,
      "outputs": [
        {
          "output_type": "stream",
          "text": [
            "[[1.02993779 0.01602316 1.04596095]\n",
            " [0.01602316 0.97805098 0.99407414]\n",
            " [1.04596095 0.99407414 2.0400351 ]]\n"
          ],
          "name": "stdout"
        },
        {
          "output_type": "execute_result",
          "data": {
            "text/plain": [
              "<matplotlib.colorbar.Colorbar at 0x7fe0b18be898>"
            ]
          },
          "metadata": {
            "tags": []
          },
          "execution_count": 19
        },
        {
          "output_type": "display_data",
          "data": {
            "image/png": "[encoded data removed]",
            "text/plain": [
              "<Figure size 432x288 with 2 Axes>"
            ]
          },
          "metadata": {
            "tags": []
          }
        }
      ]
    },
    {
      "cell_type": "markdown",
      "metadata": {
        "id": "W2UR5Hn2DKgP",
        "colab_type": "text"
      },
      "source": [
        "## <font color='red'>3. Generate covariance matrix of correlated data. Take face images as the data.</font> "
      ]
    },
    {
      "cell_type": "code",
      "metadata": {
        "id": "Fi4E7jO9DKgR",
        "colab_type": "code",
        "outputId": "47426373-fffd-48ba-9b4b-f53e2a740340",
        "colab": {
          "base_uri": "https://localhost:8080/",
          "height": 771
        }
      },
      "source": [
        "X1 = mpimg.imread('f1.pgm')\n",
        "plt.imshow(X1)\n",
        "plt.colorbar()\n",
        "[m,n]=np.shape(X1)\n",
        "X1 = X1.flatten()\n",
        "X2 = mpimg.imread('f2.pgm').flatten()\n",
        "X3 = mpimg.imread('f3.pgm').flatten()\n",
        "X4 = mpimg.imread('f4.pgm').flatten()\n",
        "X5 = mpimg.imread('f5.pgm').flatten()\n",
        "X6 = mpimg.imread('f6.pgm').flatten()\n",
        "\n",
        "X = np.c_[X1, X2, X3, X4, X4, X5, X6]\n",
        "CV = covmat(X)\n",
        "print(CV)\n",
        "fig=plt.figure()\n",
        "plt.imshow(CV)\n",
        "plt.colorbar()"
      ],
      "execution_count": 20,
      "outputs": [
        {
          "output_type": "stream",
          "text": [
            "[[2842.34397415 1772.09264952 1296.35812308 1440.1269711  1440.1269711\n",
            "   745.82859141  664.23417774]\n",
            " [1772.09264952 2345.2391852   945.74757173  928.27042199  928.27042199\n",
            "   594.16624356  237.74714864]\n",
            " [1296.35812308  945.74757173 2002.36923601 1255.68066919 1255.68066919\n",
            "   795.2471839   736.05473497]\n",
            " [1440.1269711   928.27042199 1255.68066919 2197.8056051  2197.8056051\n",
            "   917.26893253  699.41633051]\n",
            " [1440.1269711   928.27042199 1255.68066919 2197.8056051  2197.8056051\n",
            "   917.26893253  699.41633051]\n",
            " [ 745.82859141  594.16624356  795.2471839   917.26893253  917.26893253\n",
            "  1407.87791752  450.69255924]\n",
            " [ 664.23417774  237.74714864  736.05473497  699.41633051  699.41633051\n",
            "   450.69255924 1715.95615042]]\n"
          ],
          "name": "stdout"
        },
        {
          "output_type": "execute_result",
          "data": {
            "text/plain": [
              "<matplotlib.colorbar.Colorbar at 0x7fe0b174add8>"
            ]
          },
          "metadata": {
            "tags": []
          },
          "execution_count": 20
        },
        {
          "output_type": "display_data",
          "data": {
            "image/png": "[encoded data removed]",
            "text/plain": [
              "<Figure size 432x288 with 2 Axes>"
            ]
          },
          "metadata": {
            "tags": []
          }
        },
        {
          "output_type": "display_data",
          "data": {
            "image/png": "[encoded data removed]",
            "text/plain": [
              "<Figure size 432x288 with 2 Axes>"
            ]
          },
          "metadata": {
            "tags": []
          }
        }
      ]
    },
    {
      "cell_type": "markdown",
      "metadata": {
        "id": "tZ4hd5nuDKgh",
        "colab_type": "text"
      },
      "source": [
        "## <font color='red'>4. Show that data and noise are uncorrelated. Take Image files as your data and standard gaussian noise.</font> "
      ]
    },
    {
      "cell_type": "code",
      "metadata": {
        "id": "fkY_DbQeDKgl",
        "colab_type": "code",
        "outputId": "7c1916e9-f139-42e7-ed2c-bb597afe4a0b",
        "colab": {
          "base_uri": "https://localhost:8080/",
          "height": 554
        }
      },
      "source": [
        "X1 = (X1-np.mean(X1))/np.std(X1) # FOR NORMALIZATION TO ZERO MEAN ONE VARIANCE\n",
        "X2 = (X2-np.mean(X2))/np.std(X2)#write code here\n",
        "X3 = (X3-np.mean(X3))/np.std(X3)#write code here\n",
        "X4 = (X4-np.mean(X4))/np.std(X4)#write code here\n",
        "X5 = (X5-np.mean(X5))/np.std(X5)#write code here\n",
        "X6 = (X6-np.mean(X6))/np.std(X6)#write code here\n",
        "\n",
        "XN = np.random.normal(0, 1, m*n)#write code here\n",
        "X = np.c_[X1, X2, X3, X4, X4, X5, X6, XN]#write code here\n",
        "CV = covmat(X)\n",
        "print(CV)\n",
        "fig=plt.figure()\n",
        "plt.imshow(CV)\n",
        "plt.colorbar()"
      ],
      "execution_count": 21,
      "outputs": [
        {
          "output_type": "stream",
          "text": [
            "[[ 1.          0.68636406  0.54339369  0.5761928   0.5761928   0.37283632\n",
            "   0.30076674 -0.0072012 ]\n",
            " [ 0.68636406  1.          0.43642496  0.408871    0.408871    0.32698807\n",
            "   0.11851373 -0.01569282]\n",
            " [ 0.54339369  0.43642496  1.          0.59856661  0.59856661  0.47363911\n",
            "   0.39708633 -0.00485891]\n",
            " [ 0.5761928   0.408871    0.59856661  1.          1.          0.52145826\n",
            "   0.36015383  0.00907214]\n",
            " [ 0.5761928   0.408871    0.59856661  1.          1.          0.52145826\n",
            "   0.36015383  0.00907214]\n",
            " [ 0.37283632  0.32698807  0.47363911  0.52145826  0.52145826  1.\n",
            "   0.28996448 -0.00391231]\n",
            " [ 0.30076674  0.11851373  0.39708633  0.36015383  0.36015383  0.28996448\n",
            "   1.          0.01558646]\n",
            " [-0.0072012  -0.01569282 -0.00485891  0.00907214  0.00907214 -0.00391231\n",
            "   0.01558646  1.02314293]]\n"
          ],
          "name": "stdout"
        },
        {
          "output_type": "execute_result",
          "data": {
            "text/plain": [
              "<matplotlib.colorbar.Colorbar at 0x7fe0b16392e8>"
            ]
          },
          "metadata": {
            "tags": []
          },
          "execution_count": 21
        },
        {
          "output_type": "display_data",
          "data": {
            "image/png": "[encoded data removed]",
            "text/plain": [
              "<Figure size 432x288 with 2 Axes>"
            ]
          },
          "metadata": {
            "tags": []
          }
        }
      ]
    },
    {
      "cell_type": "markdown",
      "metadata": {
        "id": "S8wJd5UFDKgx",
        "colab_type": "text"
      },
      "source": [
        "## Consider $X1$,$X2$ and $X3$ uniform random variables"
      ]
    },
    {
      "cell_type": "code",
      "metadata": {
        "id": "oIm-4YKJDKg3",
        "colab_type": "code",
        "outputId": "ecff3648-c987-444e-a56f-4114a622e0a4",
        "colab": {
          "base_uri": "https://localhost:8080/",
          "height": 337
        }
      },
      "source": [
        "X1 = np.random.uniform(0, 10, M)\n",
        "X2 = np.random.uniform(0, 10, M)\n",
        "X3 = np.random.uniform(0, 10, M)\n",
        "X = np.c_[X1, X2, X3]\n",
        "CV = covmat(X)\n",
        "print(CV)\n",
        "fig=plt.figure()\n",
        "plt.imshow(CV)\n",
        "plt.colorbar()"
      ],
      "execution_count": 23,
      "outputs": [
        {
          "output_type": "stream",
          "text": [
            "[[ 8.21569615 -0.01691715 -0.18716221]\n",
            " [-0.01691715  8.17878678  0.3589574 ]\n",
            " [-0.18716221  0.3589574   8.44494503]]\n"
          ],
          "name": "stdout"
        },
        {
          "output_type": "execute_result",
          "data": {
            "text/plain": [
              "<matplotlib.colorbar.Colorbar at 0x7fe0b14a2208>"
            ]
          },
          "metadata": {
            "tags": []
          },
          "execution_count": 23
        },
        {
          "output_type": "display_data",
          "data": {
            "image/png": "[encoded data removed]",
            "text/plain": [
              "<Figure size 432x288 with 2 Axes>"
            ]
          },
          "metadata": {
            "tags": []
          }
        }
      ]
    },
    {
      "cell_type": "markdown",
      "metadata": {
        "id": "eKF1iWVVDKhE",
        "colab_type": "text"
      },
      "source": [
        "## <font color='red'>5. Verify the properties of the covariance matrix.</font>"
      ]
    },
    {
      "cell_type": "markdown",
      "metadata": {
        "id": "6Z1l5uMUDKhF",
        "colab_type": "text"
      },
      "source": [
        "### <font color='red'> a) Symmetric,i.e.,$C_X = C_X^T.$ </font> "
      ]
    },
    {
      "cell_type": "code",
      "metadata": {
        "id": "10EhLQRRDKhI",
        "colab_type": "code",
        "outputId": "a4fcb2c8-01ae-489d-f70d-4ff8b0c00e14",
        "colab": {
          "base_uri": "https://localhost:8080/",
          "height": 68
        }
      },
      "source": [
        "CV == CV.T"
      ],
      "execution_count": 24,
      "outputs": [
        {
          "output_type": "execute_result",
          "data": {
            "text/plain": [
              "array([[ True,  True,  True],\n",
              "       [ True,  True,  True],\n",
              "       [ True,  True,  True]])"
            ]
          },
          "metadata": {
            "tags": []
          },
          "execution_count": 24
        }
      ]
    },
    {
      "cell_type": "markdown",
      "metadata": {
        "id": "Jh1FrgEMDKhP",
        "colab_type": "text"
      },
      "source": [
        "### <font color='red'> b) Its eigenvalues are greater than equal to zero</font>"
      ]
    },
    {
      "cell_type": "code",
      "metadata": {
        "id": "pcksP2TJDKhQ",
        "colab_type": "code",
        "outputId": "2d400224-f190-43b2-c73f-64fea79d879b",
        "colab": {
          "base_uri": "https://localhost:8080/",
          "height": 34
        }
      },
      "source": [
        "from numpy import linalg as LA\n",
        "LA.eig(CV)[0]"
      ],
      "execution_count": 25,
      "outputs": [
        {
          "output_type": "execute_result",
          "data": {
            "text/plain": [
              "array([8.74600535, 8.19488409, 7.89853852])"
            ]
          },
          "metadata": {
            "tags": []
          },
          "execution_count": 25
        }
      ]
    },
    {
      "cell_type": "markdown",
      "metadata": {
        "id": "dRLagLuCDKha",
        "colab_type": "text"
      },
      "source": [
        "### <font color='red'> c) It is positive semi-definite, i.e., for any real valued vector $a$,$$a^TC_Xa\\geq0$$ </font>"
      ]
    },
    {
      "cell_type": "code",
      "metadata": {
        "id": "Ah-EQiD8DKhc",
        "colab_type": "code",
        "outputId": "db338797-0e28-48d6-dc97-997b0e5b536b",
        "colab": {
          "base_uri": "https://localhost:8080/",
          "height": 34
        }
      },
      "source": [
        "a = np.random.rand(np.size(CV,0),1)\n",
        "(a.T.dot(CV)).dot(a)\n",
        "#write code here"
      ],
      "execution_count": 26,
      "outputs": [
        {
          "output_type": "execute_result",
          "data": {
            "text/plain": [
              "array([[10.59914008]])"
            ]
          },
          "metadata": {
            "tags": []
          },
          "execution_count": 26
        }
      ]
    },
    {
      "cell_type": "markdown",
      "metadata": {
        "id": "n3d1lr5LDKhk",
        "colab_type": "text"
      },
      "source": [
        "## <font color='red'>6. Compute correlation coefficient matrix.</font>\n",
        "Hint: you may require np.mean,np.prod,and np.std\n",
        "\n",
        "$$\\rho_{XY}=\\frac{COV(X,Y)}{\\sqrt{\\sigma_X\\sigma_Y}}$$"
      ]
    },
    {
      "cell_type": "code",
      "metadata": {
        "id": "TU-e6i50DKhm",
        "colab_type": "code",
        "colab": {}
      },
      "source": [
        "def corr(data_mat):\n",
        "    sam = data_mat.shape[0]\n",
        "    var = data_mat.shape[1]\n",
        "    CR = np.zeros((var, var))\n",
        "    CV = covmat(data_mat)\n",
        "    for i in range(var):\n",
        "      for j in range(i, var):\n",
        "        if(i==j):\n",
        "          CR[i,j] = 1\n",
        "        else:\n",
        "          CR[i,j] = CV[i,j] / np.sqrt(CV[i,i]*CV[j,j])\n",
        "          CR[j,i] = CR[i,j]\n",
        "\n",
        "    return CR"
      ],
      "execution_count": 0,
      "outputs": []
    },
    {
      "cell_type": "code",
      "metadata": {
        "id": "q1SS-febDKhr",
        "colab_type": "code",
        "outputId": "420cee9d-a097-46c6-cb93-ff16bbb5b35e",
        "colab": {
          "base_uri": "https://localhost:8080/",
          "height": 337
        }
      },
      "source": [
        "CR = corr(X)\n",
        "print(CR)\n",
        "fig=plt.figure()\n",
        "plt.imshow(CR)\n",
        "plt.colorbar()"
      ],
      "execution_count": 32,
      "outputs": [
        {
          "output_type": "stream",
          "text": [
            "[[ 1.         -0.00206377 -0.02246972]\n",
            " [-0.00206377  1.          0.04319168]\n",
            " [-0.02246972  0.04319168  1.        ]]\n"
          ],
          "name": "stdout"
        },
        {
          "output_type": "execute_result",
          "data": {
            "text/plain": [
              "<matplotlib.colorbar.Colorbar at 0x7fe0b1343f98>"
            ]
          },
          "metadata": {
            "tags": []
          },
          "execution_count": 32
        },
        {
          "output_type": "display_data",
          "data": {
            "image/png": "[encoded data removed]",
            "text/plain": [
              "<Figure size 432x288 with 2 Axes>"
            ]
          },
          "metadata": {
            "tags": []
          }
        }
      ]
    },
    {
      "cell_type": "code",
      "metadata": {
        "id": "KOiNztxz3TnT",
        "colab_type": "code",
        "colab": {}
      },
      "source": [
        ""
      ],
      "execution_count": 0,
      "outputs": []
    }
  ]
}