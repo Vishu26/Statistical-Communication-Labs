{
  "nbformat": 4,
  "nbformat_minor": 0,
  "metadata": {
    "colab": {
      "name": "LAB 2 Probability Density Function (PDF) Using Histogram.ipynb",
      "provenance": [],
      "collapsed_sections": [],
      "include_colab_link": true
    },
    "kernelspec": {
      "name": "python3",
      "display_name": "Python 3"
    },
    "accelerator": "GPU"
  },
  "cells": [
    {
      "cell_type": "markdown",
      "metadata": {
        "id": "view-in-github",
        "colab_type": "text"
      },
      "source": [
        "<a href=\"https://colab.research.google.com/github/Vishu26/Statistical-Communication-Labs/blob/master/LAB_2_Probability_Density_Function_(PDF)_Using_Histogram.ipynb\" target=\"_parent\"><img src=\"https://colab.research.google.com/assets/colab-badge.svg\" alt=\"Open In Colab\"/></a>"
      ]
    },
    {
      "cell_type": "code",
      "metadata": {
        "colab_type": "code",
        "id": "1ZiZTj17e_r2",
        "colab": {}
      },
      "source": [
        "%matplotlib inline\n",
        "import numpy as np\n",
        "import matplotlib.pyplot as plt"
      ],
      "execution_count": 0,
      "outputs": []
    },
    {
      "cell_type": "markdown",
      "metadata": {
        "id": "5VMlIYpgkfdd",
        "colab_type": "text"
      },
      "source": [
        "##Histogram\n",
        "A histogram is an accurate representation of the distribution of numerical data.\n",
        "\n",
        "Example: \n",
        "Data $x = [1,2,3,4,2,3,4,3,4,4]$\n",
        "\n",
        "Number of bins $= 4$\n",
        "\n"
      ]
    },
    {
      "cell_type": "code",
      "metadata": {
        "id": "pzTtLmIenr7w",
        "colab_type": "code",
        "outputId": "57d0abf1-3130-4fd5-c916-7ffde392c083",
        "colab": {
          "base_uri": "https://localhost:8080/",
          "height": 282
        }
      },
      "source": [
        "x = np.array([1,2,3,4,2,3,4,3,4,4])\n",
        "bins = np.linspace(1,4,4)\n",
        "freq = np.array([1,2,3,4])\n",
        "no_samples = 10\n",
        "plt.bar(bins,freq)"
      ],
      "execution_count": 19,
      "outputs": [
        {
          "output_type": "execute_result",
          "data": {
            "text/plain": [
              "<BarContainer object of 4 artists>"
            ]
          },
          "metadata": {
            "tags": []
          },
          "execution_count": 19
        },
        {
          "output_type": "display_data",
          "data": {
            "image/png": "[encoded data removed]",
            "text/plain": [
              "<Figure size 432x288 with 1 Axes>"
            ]
          },
          "metadata": {
            "tags": []
          }
        }
      ]
    },
    {
      "cell_type": "code",
      "metadata": {
        "id": "kfXCPCKd1BbJ",
        "colab_type": "code",
        "outputId": "9a25bb69-e324-49a6-b1c4-07407ef08fdf",
        "colab": {
          "base_uri": "https://localhost:8080/",
          "height": 282
        }
      },
      "source": [
        "#PDF\n",
        "plt.bar(bins,freq/(no_samples))"
      ],
      "execution_count": 3,
      "outputs": [
        {
          "output_type": "execute_result",
          "data": {
            "text/plain": [
              "<BarContainer object of 4 artists>"
            ]
          },
          "metadata": {
            "tags": []
          },
          "execution_count": 3
        },
        {
          "output_type": "display_data",
          "data": {
            "image/png": "[encoded data removed]",
            "text/plain": [
              "<Figure size 432x288 with 1 Axes>"
            ]
          },
          "metadata": {
            "tags": []
          }
        }
      ]
    },
    {
      "cell_type": "markdown",
      "metadata": {
        "id": "v4Knr5MmFg0x",
        "colab_type": "text"
      },
      "source": [
        "##<font color='red'>1.Create hist function to plot PDF.</font> "
      ]
    },
    {
      "cell_type": "code",
      "metadata": {
        "id": "0dY5akx-iVqm",
        "colab_type": "code",
        "colab": {}
      },
      "source": [
        "def hist(x,no_bins):\n",
        "  #write code here\n",
        "  l = no_bins\n",
        "  ma,mi = [max(x), min(x)]\n",
        "  q = (ma - mi) / (l - 1)\n",
        "  partition = np.arange(mi + q/2, ma + q, q)\n",
        "  code_book = np.arange(mi, ma+q/2, q)\n",
        "  freq = np.array([0]*l)\n",
        "  for i in range(len(x)):\n",
        "    for j in range(len(partition)):\n",
        "      if x[i] < partition[j]:\n",
        "        freq[j]+=1\n",
        "        break\n",
        "  plt.figure()\n",
        "  plt.bar(code_book,freq/x.shape[0])\n",
        "  return code_book,freq"
      ],
      "execution_count": 0,
      "outputs": []
    },
    {
      "cell_type": "code",
      "metadata": {
        "id": "Gl9fdGJ66L_N",
        "colab_type": "code",
        "outputId": "c6b92d31-4172-4e25-a3bc-532ee3e612e5",
        "colab": {
          "base_uri": "https://localhost:8080/",
          "height": 282
        }
      },
      "source": [
        "hist(x,4)"
      ],
      "execution_count": 21,
      "outputs": [
        {
          "output_type": "execute_result",
          "data": {
            "text/plain": [
              "(array([1., 2., 3., 4.]), array([1, 2, 3, 4]))"
            ]
          },
          "metadata": {
            "tags": []
          },
          "execution_count": 21
        },
        {
          "output_type": "display_data",
          "data": {
            "image/png": "[encoded data removed]",
            "text/plain": [
              "<Figure size 432x288 with 1 Axes>"
            ]
          },
          "metadata": {
            "tags": []
          }
        }
      ]
    },
    {
      "cell_type": "markdown",
      "metadata": {
        "id": "jvmf3e6q3MIH",
        "colab_type": "text"
      },
      "source": [
        "## Gaussian random variable\n",
        "The probability density of the normal distribution is\n",
        "$$f(x|\\mu,\\sigma)=\\frac{1}{\\sqrt{2\\pi\\sigma^2}}e^{\\frac{(x-\\mu)^2}{2\\sigma^2}}$$\n",
        "where,\n",
        "\n",
        "$\\mu$  is the mean or expectation of the distribution (and also its median and mode),\n",
        "\n",
        "$\\sigma$  is the standard deviation, and\n",
        "\n",
        "$\\sigma ^{2}$ is the variance.\n",
        "\n",
        "range of variable is approximately $\\mu-3\\sigma$ to $\\mu+3\\sigma$"
      ]
    },
    {
      "cell_type": "markdown",
      "metadata": {
        "id": "ybW4XrQT6cOn",
        "colab_type": "text"
      },
      "source": [
        "##<font color='red'>2. Plot Gaussian PDF using above formula with $\\mu=0$ and $\\sigma=1$.</font> "
      ]
    },
    {
      "cell_type": "code",
      "metadata": {
        "id": "N5yVl44EjLm-",
        "colab_type": "code",
        "outputId": "de67db8e-b5c7-42e4-ad09-b75868ecc732",
        "colab": {
          "base_uri": "https://localhost:8080/",
          "height": 265
        }
      },
      "source": [
        "mu = 0\n",
        "sigma = 1\n",
        "x1 = np.linspace(-3, 3, 30)\n",
        "var = 1 / np.sqrt(2*np.pi*sigma**2) * np.exp(-((x1 - mu)**2)/(2*sigma**2))\n",
        "plt.plot(x1,var,'r-*')\n",
        "plt.show()"
      ],
      "execution_count": 9,
      "outputs": [
        {
          "output_type": "display_data",
          "data": {
            "image/png": "[encoded data removed]",
            "text/plain": [
              "<Figure size 432x288 with 1 Axes>"
            ]
          },
          "metadata": {
            "tags": []
          }
        }
      ]
    },
    {
      "cell_type": "markdown",
      "metadata": {
        "id": "VoQRYnjo5VoU",
        "colab_type": "text"
      },
      "source": [
        "###Draw random samples from a normal (Gaussian) distribution.\n",
        "numpy.random.normal($\\mu$, $\\sigma$, number of samples)\n",
        "\n",
        "https://docs.scipy.org/doc/numpy-1.15.0/reference/generated/numpy.random.normal.html"
      ]
    },
    {
      "cell_type": "markdown",
      "metadata": {
        "colab_type": "text",
        "id": "15kHygw8_Nb6"
      },
      "source": [
        "##<font color='red'>3. Genarate gaussian random variable (M=1000 samples) with $\\mu=0$ and $\\sigma=1$.  Plot the PDF using hist function and compare with PDF generated using above formula. Repeat for $\\mu=4$ and $\\sigma=4$. </font> "
      ]
    },
    {
      "cell_type": "code",
      "metadata": {
        "colab_type": "code",
        "outputId": "92c2e6a7-c2f2-455e-87b7-036f6d54bd6d",
        "id": "YnsRn8IKe_r9",
        "colab": {
          "base_uri": "https://localhost:8080/",
          "height": 282
        }
      },
      "source": [
        "mu = 0\n",
        "sigma = 1\n",
        "M = 1000\n",
        "no_bins = 10\n",
        "x = np.random.normal(mu, sigma, M)\n",
        "[bins,freq]=hist(x,no_bins)\n",
        "print(freq)\n",
        "x1 = np.linspace(-2, 2, 50)\n",
        "var = 1 / np.sqrt(2*np.pi*sigma**2) * np.exp(-((x1 - mu)**2)/(2*sigma**2))\n",
        "plt.plot(x1,var,'r-*')\n",
        "#plt.plot(x1,mlab.normpdf(x1, mu, sigma),'r-*')\n",
        "plt.show()\n"
      ],
      "execution_count": 32,
      "outputs": [
        {
          "output_type": "stream",
          "text": [
            "[  2  12  44 133 234 246 194 106  25   4]\n"
          ],
          "name": "stdout"
        },
        {
          "output_type": "display_data",
          "data": {
            "image/png": "[encoded data removed]",
            "text/plain": [
              "<Figure size 432x288 with 1 Axes>"
            ]
          },
          "metadata": {
            "tags": []
          }
        }
      ]
    },
    {
      "cell_type": "markdown",
      "metadata": {
        "id": "kdtOuYDoBBfl",
        "colab_type": "text"
      },
      "source": [
        "##<font color='red'>3. Plot CDF for above random variables. </font> "
      ]
    },
    {
      "cell_type": "code",
      "metadata": {
        "colab_type": "code",
        "id": "3boaAehUe_sB",
        "colab": {}
      },
      "source": [
        "#CDF\n",
        "def CDF(bins,freq):\n",
        "  cdf = np.zeros(bins.shape)\n",
        "  cdf[0] = freq[0]\n",
        "  for i in range(1, bins.shape[0]):\n",
        "    cdf[i] = cdf[i-1] + freq[i]\n",
        "  plt.figure()\n",
        "  plt.plot(bins,cdf)\n",
        "  plt.show()"
      ],
      "execution_count": 0,
      "outputs": []
    },
    {
      "cell_type": "code",
      "metadata": {
        "id": "seNxrp6_CahF",
        "colab_type": "code",
        "outputId": "01b07b76-942e-41b7-9265-fcd5a5835267",
        "colab": {
          "base_uri": "https://localhost:8080/",
          "height": 265
        }
      },
      "source": [
        "CDF(bins,freq)"
      ],
      "execution_count": 34,
      "outputs": [
        {
          "output_type": "display_data",
          "data": {
            "image/png": "[encoded data removed]",
            "text/plain": [
              "<Figure size 432x288 with 1 Axes>"
            ]
          },
          "metadata": {
            "tags": []
          }
        }
      ]
    },
    {
      "cell_type": "markdown",
      "metadata": {
        "id": "9FxjyJWpB0cp",
        "colab_type": "text"
      },
      "source": [
        "##<font color='red'>4. For a random variable $X$ following normal distribution, show the PDF for a transformed random variable $X^2$. Find the mean and compare it with true mean. Use different values of M. </font> "
      ]
    },
    {
      "cell_type": "code",
      "metadata": {
        "colab_type": "code",
        "outputId": "32f560ed-6735-41f4-debc-ae3832fb44bc",
        "id": "BYj5Cxrde_sJ",
        "colab": {
          "base_uri": "https://localhost:8080/",
          "height": 547
        }
      },
      "source": [
        "mu = 0\n",
        "sigma = 1\n",
        "M = 1000\n",
        "no_bins = 30\n",
        "x = np.random.normal(mu, sigma, M)\n",
        "\n",
        "x2 = np.zeros(shape=(M))\n",
        "x2 = x**2\n",
        "\n",
        "[bins,freq]=hist(x,no_bins)    \n",
        "[bins,freq]=hist(x2,no_bins)\n",
        "\n",
        "print(\"Mean of x is %f\"%(x.mean()))\n",
        "print(\"Mean of x^2 is %f\"%(x2.mean()))"
      ],
      "execution_count": 35,
      "outputs": [
        {
          "output_type": "stream",
          "text": [
            "Mean of x is -0.003223\n",
            "Mean of x^2 is 1.006035\n"
          ],
          "name": "stdout"
        },
        {
          "output_type": "display_data",
          "data": {
            "image/png": "[encoded data removed]",
            "text/plain": [
              "<Figure size 432x288 with 1 Axes>"
            ]
          },
          "metadata": {
            "tags": []
          }
        },
        {
          "output_type": "display_data",
          "data": {
            "image/png": "[encoded data removed]",
            "text/plain": [
              "<Figure size 432x288 with 1 Axes>"
            ]
          },
          "metadata": {
            "tags": []
          }
        }
      ]
    },
    {
      "cell_type": "markdown",
      "metadata": {
        "colab_type": "text",
        "id": "oSHF1JCFFjiS"
      },
      "source": [
        "## Uniform random variable\n",
        "The probability density of the uniform distribution is\n",
        "$$f(x|a,b)=\\begin{cases}\n",
        "    \\frac{1}{b-a},& \\text{if } a \\leq x\\leq b\\\\\n",
        "    0,              & \\text{otherwise}\n",
        "\\end{cases}$$\n",
        "\n",
        "\n",
        "##Draw samples from a uniform distribution.\n",
        "numpy.random.uniform(a,b,number of samples)\n",
        "\n",
        "https://docs.scipy.org/doc/numpy-1.15.0/reference/generated/numpy.random.uniform.html"
      ]
    },
    {
      "cell_type": "markdown",
      "metadata": {
        "colab_type": "text",
        "id": "6VWZLiTtECun"
      },
      "source": [
        "##<font color='red'>5. Genarate Uniform random variable with $a= 1$ and $b=2$. Plot the PDF and CDF.<font> "
      ]
    },
    {
      "cell_type": "code",
      "metadata": {
        "colab_type": "code",
        "outputId": "52b7b8c8-def0-4cbb-ef5a-fbe328f15d0b",
        "id": "_aH7HdAye_sN",
        "colab": {
          "base_uri": "https://localhost:8080/",
          "height": 550
        }
      },
      "source": [
        "a=1\n",
        "b=2\n",
        "M = 1000\n",
        "no_bins = 30\n",
        "x_uniform = np.random.uniform(1, 2, M)\n",
        "[bins,freq]=hist(x_uniform,no_bins)\n",
        "\n",
        "#CDF\n",
        "CDF(bins,freq)\n",
        "\n",
        "print(\"Mean of x_uniform is %f\"%(x_uniform.mean()))\n",
        "print(\"Variance of x_uniform is %f\"%(x_uniform.var()))\n"
      ],
      "execution_count": 36,
      "outputs": [
        {
          "output_type": "display_data",
          "data": {
            "image/png": "[encoded data removed]",
            "text/plain": [
              "<Figure size 432x288 with 1 Axes>"
            ]
          },
          "metadata": {
            "tags": []
          }
        },
        {
          "output_type": "display_data",
          "data": {
            "image/png": "[encoded data removed]",
            "text/plain": [
              "<Figure size 432x288 with 1 Axes>"
            ]
          },
          "metadata": {
            "tags": []
          }
        },
        {
          "output_type": "stream",
          "text": [
            "Mean of x_uniform is 1.511296\n",
            "Variance of x_uniform is 0.085431\n"
          ],
          "name": "stdout"
        }
      ]
    },
    {
      "cell_type": "markdown",
      "metadata": {
        "colab_type": "text",
        "id": "irmS_vBDEZ7j"
      },
      "source": [
        "##<font color='red'>6. Consider the transformed random variable Y=pX+q, where X is uniform random variable between 1 and 2. Take p=4 and q=5 and plot PDF and CDF for Y. Also find the mean and variance of Y.</font> "
      ]
    },
    {
      "cell_type": "code",
      "metadata": {
        "id": "MEppAxpzBKM_",
        "colab_type": "code",
        "outputId": "03045c26-9593-41be-ae2f-74f7e50a4250",
        "colab": {
          "base_uri": "https://localhost:8080/",
          "height": 550
        }
      },
      "source": [
        "\n",
        "p = 4\n",
        "q = 5\n",
        "y = p*x_uniform+q\n",
        "\n",
        "[bins,freq]=hist(x_uniform,no_bins)\n",
        "CDF(bins,freq)\n",
        "print(\"Mean of y is %f\"%(y.mean()))\n",
        "print(\"Variance of y is %f\"%(y.var()))"
      ],
      "execution_count": 37,
      "outputs": [
        {
          "output_type": "display_data",
          "data": {
            "image/png": "[encoded data removed]",
            "text/plain": [
              "<Figure size 432x288 with 1 Axes>"
            ]
          },
          "metadata": {
            "tags": []
          }
        },
        {
          "output_type": "display_data",
          "data": {
            "image/png": "[encoded data removed]",
            "text/plain": [
              "<Figure size 432x288 with 1 Axes>"
            ]
          },
          "metadata": {
            "tags": []
          }
        },
        {
          "output_type": "stream",
          "text": [
            "Mean of y is 11.045182\n",
            "Variance of y is 1.366903\n"
          ],
          "name": "stdout"
        }
      ]
    },
    {
      "cell_type": "code",
      "metadata": {
        "id": "a55Gw6QDZ5KU",
        "colab_type": "code",
        "colab": {}
      },
      "source": [
        ""
      ],
      "execution_count": 0,
      "outputs": []
    }
  ]
}