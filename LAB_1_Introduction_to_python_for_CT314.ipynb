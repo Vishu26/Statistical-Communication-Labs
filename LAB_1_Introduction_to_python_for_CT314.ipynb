{
  "nbformat": 4,
  "nbformat_minor": 0,
  "metadata": {
    "colab": {
      "name": "LAB 1 Introduction to python for CT314.ipynb",
      "provenance": [],
      "collapsed_sections": [],
      "include_colab_link": true
    },
    "kernelspec": {
      "name": "python3",
      "display_name": "Python 3"
    },
    "accelerator": "GPU"
  },
  "cells": [
    {
      "cell_type": "markdown",
      "metadata": {
        "id": "view-in-github",
        "colab_type": "text"
      },
      "source": [
        "<a href=\"https://colab.research.google.com/github/Vishu26/Statistical-Communication-Labs/blob/master/LAB_1_Introduction_to_python_for_CT314.ipynb\" target=\"_parent\"><img src=\"https://colab.research.google.com/assets/colab-badge.svg\" alt=\"Open In Colab\"/></a>"
      ]
    },
    {
      "cell_type": "markdown",
      "metadata": {
        "id": "SC8rZl_fnw1d",
        "colab_type": "text"
      },
      "source": [
        "## Basic of Numbers in python"
      ]
    },
    {
      "cell_type": "markdown",
      "metadata": {
        "id": "wATXf9zrnw1e",
        "colab_type": "text"
      },
      "source": [
        "Integers and floats work as you would expect from other languages:"
      ]
    },
    {
      "cell_type": "code",
      "metadata": {
        "id": "Rr8W2uMznw1g",
        "colab_type": "code",
        "colab": {}
      },
      "source": [
        "x = 3\n",
        "print (x, type(x))"
      ],
      "execution_count": 0,
      "outputs": []
    },
    {
      "cell_type": "code",
      "metadata": {
        "id": "SJouww7Inw1p",
        "colab_type": "code",
        "colab": {}
      },
      "source": [
        "print (x + 1)   # Addition;\n",
        "print (x - 1)   # Subtraction;\n",
        "print (x * 2)   # Multiplication;\n",
        "print (x ** 2)  # Exponentiation;"
      ],
      "execution_count": 0,
      "outputs": []
    },
    {
      "cell_type": "code",
      "metadata": {
        "id": "nj14uZF2nw1z",
        "colab_type": "code",
        "colab": {}
      },
      "source": [
        "x += 1\n",
        "print (x)  # Prints \"4\"\n",
        "x *= 2\n",
        "print (x)  # Prints \"8\""
      ],
      "execution_count": 0,
      "outputs": []
    },
    {
      "cell_type": "code",
      "metadata": {
        "id": "gUMeY7ILnw16",
        "colab_type": "code",
        "colab": {}
      },
      "source": [
        "y = 2.5\n",
        "print (type(y) )# Prints \"<type 'float'>\"\n",
        "print (y, y + 1, y * 2, y ** 2) # Prints \"2.5 3.5 5.0 6.25\""
      ],
      "execution_count": 0,
      "outputs": []
    },
    {
      "cell_type": "markdown",
      "metadata": {
        "id": "qxvvHiItnw2H",
        "colab_type": "text"
      },
      "source": [
        "Note that unlike many languages, Python does not have unary increment (x++) or decrement (x--) operators.\n",
        "\n",
        "Python also has built-in types for long integers and complex numbers; you can find all of the details in the [documentation](https://docs.python.org/2/library/stdtypes.html#numeric-types-int-float-long-complex)."
      ]
    },
    {
      "cell_type": "markdown",
      "metadata": {
        "id": "EPF5FeiybxYi",
        "colab_type": "text"
      },
      "source": [
        "## Numpy \n",
        "Numpy is the core library for scientific computing in Python. It provides a high-performance multidimensional array object, and tools for working with these arrays. If you are already familiar with MATLAB,"
      ]
    },
    {
      "cell_type": "code",
      "metadata": {
        "id": "zzuw0IDlb4uY",
        "colab_type": "code",
        "colab": {}
      },
      "source": [
        "import numpy as np"
      ],
      "execution_count": 0,
      "outputs": []
    },
    {
      "cell_type": "markdown",
      "metadata": {
        "id": "UjZvGRYzb6xp",
        "colab_type": "text"
      },
      "source": [
        "Find details of mathemetical function in numpy  at https://docs.scipy.org/doc/numpy-1.15.0/reference/routines.math.html"
      ]
    },
    {
      "cell_type": "markdown",
      "metadata": {
        "id": "WM95q6CkXwv6",
        "colab_type": "text"
      },
      "source": [
        "##<font color='red'>1. Evaluate the expression $a^3+\\sqrt{bd}-4c$, where $a=1.2, b=2.3, c=4.5$ and $d=4$.</font> "
      ]
    },
    {
      "cell_type": "code",
      "metadata": {
        "id": "3CI1OWaFYsyg",
        "colab_type": "code",
        "colab": {
          "base_uri": "https://localhost:8080/",
          "height": 34
        },
        "outputId": "e616cc9c-4f51-45bf-df9f-be84e3fed4ff"
      },
      "source": [
        "a, b, c, d = [1.2, 2.3, 4.5, 4]\n",
        "a**3 + (b*d)**0.5 - 4*c"
      ],
      "execution_count": 1,
      "outputs": [
        {
          "output_type": "execute_result",
          "data": {
            "text/plain": [
              "-13.23884982237938"
            ]
          },
          "metadata": {
            "tags": []
          },
          "execution_count": 1
        }
      ]
    },
    {
      "cell_type": "markdown",
      "metadata": {
        "id": "e_J4a3YEfe6P",
        "colab_type": "text"
      },
      "source": [
        "##Numpy array indexing and array operations\n",
        "Help to create Numpy array: https://docs.scipy.org/doc/numpy-1.15.0/reference/generated/numpy.array.html#numpy.array\n",
        "\n",
        "Help to create Numpy array indexing:https://docs.scipy.org/doc/numpy-1.15.0/reference/arrays.indexing.html\n",
        "\n",
        "Help to create Numpy for matlab user:https://docs.scipy.org/doc/numpy/user/numpy-for-matlab-users.html\n"
      ]
    },
    {
      "cell_type": "markdown",
      "metadata": {
        "colab_type": "text",
        "id": "3IPVZYK9dkxa"
      },
      "source": [
        "##<font color='red'>2. Consider the two matrices: $$A=\\begin{bmatrix}4 & -6 \\\\6 & 10\n",
        "\\end{bmatrix}B=\\begin{bmatrix}6 & -13 \\\\3.4 & 16\n",
        "\\end{bmatrix}$$</font> \n",
        "##<font color='red'>Find: (a) $A+B$ (b) $B^2$ (c) $AB$ (d) $B^TA^T$ (e) Replace the second column of $A$ with that of $B$.</font> "
      ]
    },
    {
      "cell_type": "code",
      "metadata": {
        "id": "w-nnu6l4gIY6",
        "colab_type": "code",
        "colab": {
          "base_uri": "https://localhost:8080/",
          "height": 51
        },
        "outputId": "a4137fd1-90d5-4346-e009-578995b9c0d3"
      },
      "source": [
        "A = np.array([[4, -6], [6, 10]])\n",
        "B = np.array([[6, -13], [3.4, 16]])\n",
        "A + B\n",
        "np.linalg.matrix_power(B, 2)\n",
        "A * B\n",
        "B.T * A.T"
      ],
      "execution_count": 4,
      "outputs": [
        {
          "output_type": "execute_result",
          "data": {
            "text/plain": [
              "array([[ 24. ,  20.4],\n",
              "       [ 78. , 160. ]])"
            ]
          },
          "metadata": {
            "tags": []
          },
          "execution_count": 4
        }
      ]
    },
    {
      "cell_type": "markdown",
      "metadata": {
        "id": "AaDe3HVi-mgV",
        "colab_type": "text"
      },
      "source": [
        "## Numpy : Linear *algebra*\n",
        "https://docs.scipy.org/doc/numpy-1.15.0/reference/routines.linalg.html"
      ]
    },
    {
      "cell_type": "markdown",
      "metadata": {
        "colab_type": "text",
        "id": "QyptrBW578Se"
      },
      "source": [
        "##<font color='red'>3. Find the solution of the following set of linear algebraic equations:}$$5x+6y+10z=4$$ $$-3x+14z=10$$ $$-7y+21z=0$$</font> "
      ]
    },
    {
      "cell_type": "code",
      "metadata": {
        "colab_type": "code",
        "id": "F6Ta5w348idj",
        "colab": {
          "base_uri": "https://localhost:8080/",
          "height": 34
        },
        "outputId": "600dc530-1ab8-4536-ea6b-1a21a7095e88"
      },
      "source": [
        "A = np.array([[5, 6, 10],[-3, 0, 14], [0, -7, 21]])\n",
        "Y = np.array([4, 10, 0])\n",
        "X = np.linalg.inv(A).dot(Y)\n",
        "A.dot(X)"
      ],
      "execution_count": 6,
      "outputs": [
        {
          "output_type": "execute_result",
          "data": {
            "text/plain": [
              "array([4.00000000e+00, 1.00000000e+01, 1.77635684e-15])"
            ]
          },
          "metadata": {
            "tags": []
          },
          "execution_count": 6
        }
      ]
    },
    {
      "cell_type": "markdown",
      "metadata": {
        "colab_type": "text",
        "id": "zhGD6rIYCJ8i"
      },
      "source": [
        "##<font color='red'>4. Find the solution of the following set of linear algebraic equations such that $\\Vert Ax-b\\Vert^2_2$is minimized:$$5x+6y+10z=4$$ $$-3x+14z=10$$ $$-7y+21z=0$$$$2x-y+45z=16$$</font> "
      ]
    },
    {
      "cell_type": "code",
      "metadata": {
        "colab_type": "code",
        "id": "HyVZ5bHKC6Lr",
        "colab": {
          "base_uri": "https://localhost:8080/",
          "height": 34
        },
        "outputId": "e433d13a-d334-466f-da3a-bab28fd10f07"
      },
      "source": [
        "A = np.array([[5,6,10],[-3,0,14],[0,-7,21],[2,-1,45]])\n",
        "Y = np.array([4,10,0,16])\n",
        "X=np.linalg.pinv(A).dot(Y)\n",
        "X"
      ],
      "execution_count": 9,
      "outputs": [
        {
          "output_type": "execute_result",
          "data": {
            "text/plain": [
              "array([-1.46103896,  1.2393321 ,  0.43692022])"
            ]
          },
          "metadata": {
            "tags": []
          },
          "execution_count": 9
        }
      ]
    },
    {
      "cell_type": "markdown",
      "metadata": {
        "id": "3B34NIubEbA-",
        "colab_type": "text"
      },
      "source": [
        "##<font color='red'>5. create following two arrays:\n",
        "(a) Array of ones with 10 elements \n",
        "(b) Array a[1] = 2; a[2] = 3 and a[3] to a[10] are zero</font> "
      ]
    },
    {
      "cell_type": "code",
      "metadata": {
        "id": "iu6GxTFAFZFP",
        "colab_type": "code",
        "colab": {
          "base_uri": "https://localhost:8080/",
          "height": 187
        },
        "outputId": "5769dd8e-8b6e-4f00-e8d5-e1be926336b6"
      },
      "source": [
        "X = np.ones((10, 1))\n",
        "X[0]=2\n",
        "X[1]=3\n",
        "X[3:10]=0\n",
        "X"
      ],
      "execution_count": 11,
      "outputs": [
        {
          "output_type": "execute_result",
          "data": {
            "text/plain": [
              "array([[2.],\n",
              "       [3.],\n",
              "       [1.],\n",
              "       [0.],\n",
              "       [0.],\n",
              "       [0.],\n",
              "       [0.],\n",
              "       [0.],\n",
              "       [0.],\n",
              "       [0.]])"
            ]
          },
          "metadata": {
            "tags": []
          },
          "execution_count": 11
        }
      ]
    },
    {
      "cell_type": "markdown",
      "metadata": {
        "id": "OnPJvy9GH1H4",
        "colab_type": "text"
      },
      "source": [
        "##Numpy: Statistics\n",
        "https://docs.scipy.org/doc/numpy-1.15.1/reference/routines.statistics.html\n",
        "\n",
        "For random sampling : https://docs.scipy.org/doc/numpy-1.15.0/reference/routines.random.html"
      ]
    },
    {
      "cell_type": "markdown",
      "metadata": {
        "colab_type": "text",
        "id": "C_ODKpdbF758"
      },
      "source": [
        "##<font color='red'>6. Create two arrays indicating marks of students in two subjects. Get average vector of them.</font> "
      ]
    },
    {
      "cell_type": "code",
      "metadata": {
        "colab_type": "code",
        "id": "g-ndczyOGJdc",
        "colab": {
          "base_uri": "https://localhost:8080/",
          "height": 34
        },
        "outputId": "dff8dbe3-f213-4f7f-a07c-d9ec479e37eb"
      },
      "source": [
        "A = np.random.randint(0, 100, 6)\n",
        "B = np.random.randint(0, 100, 6)\n",
        "Avg = (A + B) / 2\n",
        "Avg"
      ],
      "execution_count": 13,
      "outputs": [
        {
          "output_type": "execute_result",
          "data": {
            "text/plain": [
              "array([47. , 53. , 51. , 46.5, 56.5, 26. ])"
            ]
          },
          "metadata": {
            "tags": []
          },
          "execution_count": 13
        }
      ]
    },
    {
      "cell_type": "markdown",
      "metadata": {
        "id": "3p0ybKFWbbZO",
        "colab_type": "text"
      },
      "source": [
        "## Matplotlib: For Plot\n",
        "https://matplotlib.org/tutorials/introductory/pyplot.html#sphx-glr-tutorials-introductory-pyplot-py"
      ]
    },
    {
      "cell_type": "code",
      "metadata": {
        "id": "5onZQOXoJDbZ",
        "colab_type": "code",
        "colab": {}
      },
      "source": [
        "import matplotlib.pyplot as plt\n",
        "%matplotlib inline"
      ],
      "execution_count": 0,
      "outputs": []
    },
    {
      "cell_type": "markdown",
      "metadata": {
        "id": "Q8aC6tu_IQGE",
        "colab_type": "text"
      },
      "source": [
        "##<font color='red'>7. Plot the following functions:\n",
        "\n",
        "1.   $y=\\sin{(x)} $ from $0\\le x\\le 2\\pi$ \n",
        "2.   $y=x^2-2x+15 $ from $0\\le x\\le 10$\n",
        "1.   $h[n] = {1, 2, 3, 4, 5}$\n",
        "4.   $h[n] = {1, 2, 3, 4, 5}$, with $n= -2$ to $2$\n",
        "<font>\n"
      ]
    },
    {
      "cell_type": "code",
      "metadata": {
        "id": "3BPpQrpZnw-q",
        "colab_type": "code",
        "colab": {
          "base_uri": "https://localhost:8080/",
          "height": 282
        },
        "outputId": "b49e7bd6-3d4b-496a-c7ce-516c4cf0c487"
      },
      "source": [
        "# write code here for 1\n",
        "x = np.arange(0, 2*np.pi, 0.1)\n",
        "y = np.sin(x)\n",
        "plt.plot(x, y)"
      ],
      "execution_count": 16,
      "outputs": [
        {
          "output_type": "execute_result",
          "data": {
            "text/plain": [
              "[<matplotlib.lines.Line2D at 0x7f49d01d0ac8>]"
            ]
          },
          "metadata": {
            "tags": []
          },
          "execution_count": 16
        },
        {
          "output_type": "display_data",
          "data": {
            "image/png": "[encoded data removed]",
            "text/plain": [
              "<Figure size 432x288 with 1 Axes>"
            ]
          },
          "metadata": {
            "tags": []
          }
        }
      ]
    },
    {
      "cell_type": "code",
      "metadata": {
        "colab_type": "code",
        "id": "4i-cG2VKKBUN",
        "colab": {
          "base_uri": "https://localhost:8080/",
          "height": 282
        },
        "outputId": "788f230a-c7f8-4964-d98b-4784684159fa"
      },
      "source": [
        "# write code here for 2\n",
        "x = np.arange(0, 10, 0.5)\n",
        "y = x**2 -2*x + 15\n",
        "plt.plot(x, y)"
      ],
      "execution_count": 17,
      "outputs": [
        {
          "output_type": "execute_result",
          "data": {
            "text/plain": [
              "[<matplotlib.lines.Line2D at 0x7f49d2de2fd0>]"
            ]
          },
          "metadata": {
            "tags": []
          },
          "execution_count": 17
        },
        {
          "output_type": "display_data",
          "data": {
            "image/png": "[encoded data removed]",
            "text/plain": [
              "<Figure size 432x288 with 1 Axes>"
            ]
          },
          "metadata": {
            "tags": []
          }
        }
      ]
    },
    {
      "cell_type": "code",
      "metadata": {
        "colab_type": "code",
        "id": "07HnsfnSdjqk",
        "colab": {
          "base_uri": "https://localhost:8080/",
          "height": 282
        },
        "outputId": "2226fbbe-2473-4f82-bc39-b59745687297"
      },
      "source": [
        "# write code here for 3\n",
        "n = np.linspace(1, 5, 5)\n",
        "plt.scatter(n,n)"
      ],
      "execution_count": 20,
      "outputs": [
        {
          "output_type": "execute_result",
          "data": {
            "text/plain": [
              "<matplotlib.collections.PathCollection at 0x7f49cfbcdc88>"
            ]
          },
          "metadata": {
            "tags": []
          },
          "execution_count": 20
        },
        {
          "output_type": "display_data",
          "data": {
            "image/png": "[encoded data removed]",
            "text/plain": [
              "<Figure size 432x288 with 1 Axes>"
            ]
          },
          "metadata": {
            "tags": []
          }
        }
      ]
    },
    {
      "cell_type": "code",
      "metadata": {
        "colab_type": "code",
        "id": "zH53q0TcdkPv",
        "colab": {
          "base_uri": "https://localhost:8080/",
          "height": 282
        },
        "outputId": "831727dd-2baf-4fa5-9379-62ff6e9e9761"
      },
      "source": [
        "# write code here for 4\n",
        "n = np.linspace(-2, 2, 5)\n",
        "h = np.linspace(1, 5, 5)\n",
        "plt.scatter(n, h)"
      ],
      "execution_count": 22,
      "outputs": [
        {
          "output_type": "execute_result",
          "data": {
            "text/plain": [
              "<matplotlib.collections.PathCollection at 0x7f49cfab2128>"
            ]
          },
          "metadata": {
            "tags": []
          },
          "execution_count": 22
        },
        {
          "output_type": "display_data",
          "data": {
            "image/png": "[encoded data removed]",
            "text/plain": [
              "<Figure size 432x288 with 1 Axes>"
            ]
          },
          "metadata": {
            "tags": []
          }
        }
      ]
    },
    {
      "cell_type": "markdown",
      "metadata": {
        "id": "GobP2IePGThL",
        "colab_type": "text"
      },
      "source": [
        "##<font color='red'>8. Write code to verify whether the given vectors are linearly independent or not.\n",
        "v1 = [6 0 3 1 4 2];\n",
        "v2 = [0 -1 2 7 0 5];\n",
        "v3 = [12 3 0 -19 8 -11].</font> \n",
        "\n",
        "Hint: You can use matrix rank or rref form with help of numpy.linalg library "
      ]
    },
    {
      "cell_type": "code",
      "metadata": {
        "id": "hYOPaUUqG0-Y",
        "colab_type": "code",
        "colab": {
          "base_uri": "https://localhost:8080/",
          "height": 34
        },
        "outputId": "f59ab3b4-808d-49f9-c24b-2ee0f65dcb64"
      },
      "source": [
        "#write code here\n",
        "v1 = np.array([[6, 0, 3, 1, 4, 2],[0,-1,2,7,0,5],[12,3,0,-19,8,-11]])\n",
        "rank = np.linalg.matrix_rank(v1)\n",
        "rank"
      ],
      "execution_count": 23,
      "outputs": [
        {
          "output_type": "execute_result",
          "data": {
            "text/plain": [
              "2"
            ]
          },
          "metadata": {
            "tags": []
          },
          "execution_count": 23
        }
      ]
    },
    {
      "cell_type": "markdown",
      "metadata": {
        "id": "dHjk5I0QM3S0",
        "colab_type": "text"
      },
      "source": [
        "##<font color='red'>9. For real symmetric matrix\n",
        "1.   Find the Eigen values and eigan vectors\n",
        "2.   Verify properties of Eigen values and Eigen vector.<font>\n",
        "\n"
      ]
    },
    {
      "cell_type": "code",
      "metadata": {
        "id": "pIwy4pqQN1cn",
        "colab_type": "code",
        "colab": {
          "base_uri": "https://localhost:8080/",
          "height": 85
        },
        "outputId": "1d37a622-19f8-4bac-dd35-e5d02adc51e3"
      },
      "source": [
        "#write code here\n",
        "A = np.array([[5, 6, 10],[6, 0, 14], [10, 14, 21]])\n",
        "np.linalg.eig(A)"
      ],
      "execution_count": 27,
      "outputs": [
        {
          "output_type": "execute_result",
          "data": {
            "text/plain": [
              "(array([32.85687887,  0.24015137, -7.09703024]),\n",
              " array([[ 0.38541663,  0.9164263 ,  0.10778156],\n",
              "        [ 0.42038095, -0.07040535, -0.90461204],\n",
              "        [ 0.82142187, -0.39396184,  0.41238355]]))"
            ]
          },
          "metadata": {
            "tags": []
          },
          "execution_count": 27
        }
      ]
    },
    {
      "cell_type": "markdown",
      "metadata": {
        "id": "167i2Ni7X1oZ",
        "colab_type": "text"
      },
      "source": [
        "## Python Function:\n",
        "https://www.tutorialspoint.com/python/python_functions.htm"
      ]
    },
    {
      "cell_type": "markdown",
      "metadata": {
        "colab_type": "text",
        "id": "iauUBzH2SKPk"
      },
      "source": [
        "##<font color='red'>10. Write code for the following:\n",
        "  \n",
        "\n",
        "1.   Create a column vector with 10 values of temperature in degree centigrade $C^\\circ$\n",
        "2.   Convert each of the temperature values in degree Fahrenheit using the formula $$F^\\circ=\\frac{9}{2}C^\\circ+32$$\n",
        "1.   Make the final matrix with temperature values in $C^\\circ$ as the first column and in F as the second column.\n",
        "<font>\n",
        "\n"
      ]
    },
    {
      "cell_type": "code",
      "metadata": {
        "id": "RDtWZvYuTsPS",
        "colab_type": "code",
        "colab": {}
      },
      "source": [
        "def ctof(c):\n",
        "  #write code here to convert c to f\n",
        "  \n",
        "  return f"
      ],
      "execution_count": 0,
      "outputs": []
    },
    {
      "cell_type": "code",
      "metadata": {
        "id": "DqwYVjmWUz4H",
        "colab_type": "code",
        "colab": {}
      },
      "source": [
        "#write code for 1\n",
        "\n"
      ],
      "execution_count": 0,
      "outputs": []
    },
    {
      "cell_type": "code",
      "metadata": {
        "id": "--ytBr4EYEL_",
        "colab_type": "code",
        "colab": {}
      },
      "source": [
        "#write code for 2\n"
      ],
      "execution_count": 0,
      "outputs": []
    },
    {
      "cell_type": "code",
      "metadata": {
        "id": "jHbry5XnYNpN",
        "colab_type": "code",
        "colab": {}
      },
      "source": [
        "#write code for 3\n"
      ],
      "execution_count": 0,
      "outputs": []
    },
    {
      "cell_type": "markdown",
      "metadata": {
        "id": "7R2JhXrrY9-2",
        "colab_type": "text"
      },
      "source": [
        "## Python : Control statements\n",
        "if else: https://www.w3schools.com/python/python_conditions.asp\n",
        "\n",
        "while loop : https://www.w3schools.com/python/python_while_loops.asp\n",
        "\n",
        "for loop : https://www.w3schools.com/python/python_for_loops.asp"
      ]
    },
    {
      "cell_type": "markdown",
      "metadata": {
        "id": "ER-fUvoFYir-",
        "colab_type": "text"
      },
      "source": [
        "##<font color='red'>12. Determine the probability of 3 heads in 4 tosses of a coin with probability of head being $p=0.75$. Use a relative frequency interpretation of probability to yield the result."
      ]
    },
    {
      "cell_type": "code",
      "metadata": {
        "id": "80ti1ZQTY8UF",
        "colab_type": "code",
        "colab": {}
      },
      "source": [
        "#write code here\n",
        "\n",
        "       "
      ],
      "execution_count": 0,
      "outputs": []
    },
    {
      "cell_type": "markdown",
      "metadata": {
        "id": "uqQyo3jNd3Df",
        "colab_type": "text"
      },
      "source": [
        "##<font color='red'>13. Write a program that will add all the numbers corresponding to the even indices of an array. Use that program to find the sum of all even integers from 1 to 1000.<font>"
      ]
    },
    {
      "cell_type": "code",
      "metadata": {
        "id": "JzmE6DJJeYvH",
        "colab_type": "code",
        "colab": {}
      },
      "source": [
        "#hint: Write your program as follows: where x is the input vector, and y is the sum of all the numbers corresponding to the even indices of x. \n",
        "def addeven(x):\n",
        "  #write code here\n",
        "  return sum"
      ],
      "execution_count": 0,
      "outputs": []
    },
    {
      "cell_type": "code",
      "metadata": {
        "id": "swRSzjrUeu3D",
        "colab_type": "code",
        "colab": {}
      },
      "source": [
        "#\n",
        "a= #generate array\n",
        "addeven(a)"
      ],
      "execution_count": 0,
      "outputs": []
    }
  ]
}